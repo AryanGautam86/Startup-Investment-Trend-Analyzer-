{
 "cells": [
  {
   "cell_type": "code",
   "execution_count": 1,
   "id": "18380994-742b-42e9-82ac-0e1709dcf64d",
   "metadata": {},
   "outputs": [],
   "source": [
    "# from joblib import dump, load\n",
    "# dump(model,'startup_pred.joblib')"
   ]
  },
  {
   "cell_type": "code",
   "execution_count": 2,
   "id": "b15beeb7-beae-41b5-952f-13bb6b002037",
   "metadata": {},
   "outputs": [],
   "source": [
    "from joblib import dump,load\n",
    "model=load('startup_pred.joblib')"
   ]
  },
  {
   "cell_type": "code",
   "execution_count": 11,
   "id": "96484fc6-bfbe-426f-8dcf-d066a73efc77",
   "metadata": {},
   "outputs": [
    {
     "data": {
      "text/plain": [
       "np.float64(22004900.86994984)"
      ]
     },
     "execution_count": 11,
     "metadata": {},
     "output_type": "execute_result"
    }
   ],
   "source": [
    "import pandas as pd\n",
    "\n",
    "# Example input to predict\n",
    "input = pd.DataFrame({\n",
    "    'industry': ['E-Commerce'],\n",
    "    'location': ['Bangalore'],\n",
    "    'investment_type': ['Venture'],\n",
    "    'funding_round': ['Seed'],\n",
    "    'startup_age': [7]\n",
    "})\n",
    "model.predict(input)[0]"
   ]
  },
  {
   "cell_type": "code",
   "execution_count": null,
   "id": "8b12d823-7f65-473b-8fca-c7710f0368bd",
   "metadata": {},
   "outputs": [],
   "source": []
  }
 ],
 "metadata": {
  "kernelspec": {
   "display_name": "Python 3 (ipykernel)",
   "language": "python",
   "name": "python3"
  },
  "language_info": {
   "codemirror_mode": {
    "name": "ipython",
    "version": 3
   },
   "file_extension": ".py",
   "mimetype": "text/x-python",
   "name": "python",
   "nbconvert_exporter": "python",
   "pygments_lexer": "ipython3",
   "version": "3.12.2"
  }
 },
 "nbformat": 4,
 "nbformat_minor": 5
}
