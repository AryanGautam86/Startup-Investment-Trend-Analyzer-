{
 "cells": [
  {
   "cell_type": "code",
   "execution_count": 1,
   "id": "b15beeb7-beae-41b5-952f-13bb6b002037",
   "metadata": {},
   "outputs": [],
   "source": [
    "from joblib import dump,load\n",
    "model=load('startup_pred.joblib')"
   ]
  },
  {
   "cell_type": "code",
   "execution_count": 3,
   "id": "96484fc6-bfbe-426f-8dcf-d066a73efc77",
   "metadata": {},
   "outputs": [
    {
     "data": {
      "text/plain": [
       "array([19259842.85492944])"
      ]
     },
     "execution_count": 3,
     "metadata": {},
     "output_type": "execute_result"
    }
   ],
   "source": [
    "import pandas as pd\n",
    "\n",
    "# Example input to predict\n",
    "input = pd.DataFrame({\n",
    "    'industry': ['E-Commerce'],\n",
    "    'location': ['Bangalore'],\n",
    "    'investment_type': ['Seed'],\n",
    "    'funding_round': ['Seed'],\n",
    "    'startup_age': [3]\n",
    "})\n",
    "model.predict(input)\n"
   ]
  },
  {
   "cell_type": "code",
   "execution_count": null,
   "id": "afc99c70-ff00-4736-a4de-d68a510176d4",
   "metadata": {},
   "outputs": [],
   "source": []
  }
 ],
 "metadata": {
  "kernelspec": {
   "display_name": "Python 3 (ipykernel)",
   "language": "python",
   "name": "python3"
  },
  "language_info": {
   "codemirror_mode": {
    "name": "ipython",
    "version": 3
   },
   "file_extension": ".py",
   "mimetype": "text/x-python",
   "name": "python",
   "nbconvert_exporter": "python",
   "pygments_lexer": "ipython3",
   "version": "3.12.2"
  }
 },
 "nbformat": 4,
 "nbformat_minor": 5
}
