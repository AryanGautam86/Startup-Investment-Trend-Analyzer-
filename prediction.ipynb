{
 "cells": [
  {
   "cell_type": "code",
   "execution_count": 13,
   "id": "b15beeb7-beae-41b5-952f-13bb6b002037",
   "metadata": {},
   "outputs": [],
   "source": [
    "from joblib import dump,load\n",
    "model=load('startup_pred.joblib')"
   ]
  },
  {
   "cell_type": "code",
   "execution_count": 24,
   "id": "96484fc6-bfbe-426f-8dcf-d066a73efc77",
   "metadata": {},
   "outputs": [],
   "source": [
    "import pandas as pd\n",
    "import numpy as np\n",
    "new_data = pd.DataFrame([\n",
    "    {\n",
    "        \"industry\": \"Consumer Internet\",\n",
    "        \"location\": \"Bangalore\",\n",
    "        \"investment_type\": \"Seed Funding\",\n",
    "        \"year\": 2020,\n",
    "        \"month\": 12\n",
    "    }\n",
    "])"
   ]
  },
  {
   "cell_type": "code",
   "execution_count": 25,
   "id": "8b12d823-7f65-473b-8fca-c7710f0368bd",
   "metadata": {},
   "outputs": [
    {
     "data": {
      "text/plain": [
       "array([1296686.], dtype=float32)"
      ]
     },
     "execution_count": 25,
     "metadata": {},
     "output_type": "execute_result"
    }
   ],
   "source": [
    "# Predict log_funding\n",
    "log_preds = model.predict(new_data)\n",
    "\n",
    "# Convert back to original scale (USD)\n",
    "predictions = np.expm1(log_preds)\n",
    "predictions"
   ]
  },
  {
   "cell_type": "code",
   "execution_count": null,
   "id": "5fb9866a-2ac2-49b4-b473-f45655d03371",
   "metadata": {},
   "outputs": [],
   "source": []
  }
 ],
 "metadata": {
  "kernelspec": {
   "display_name": "Python 3 (ipykernel)",
   "language": "python",
   "name": "python3"
  },
  "language_info": {
   "codemirror_mode": {
    "name": "ipython",
    "version": 3
   },
   "file_extension": ".py",
   "mimetype": "text/x-python",
   "name": "python",
   "nbconvert_exporter": "python",
   "pygments_lexer": "ipython3",
   "version": "3.12.2"
  }
 },
 "nbformat": 4,
 "nbformat_minor": 5
}
