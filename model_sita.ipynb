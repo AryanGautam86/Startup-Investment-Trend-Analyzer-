{
 "cells": [
  {
   "cell_type": "markdown",
   "id": "5f4dbadd-a593-4bff-9357-2b802c6720a4",
   "metadata": {},
   "source": [
    "## Startup Investment Trend Analyzer"
   ]
  },
  {
   "cell_type": "code",
   "execution_count": 1,
   "id": "fe5e78e2-f809-4975-9e53-b4749c616b88",
   "metadata": {},
   "outputs": [
    {
     "name": "stdout",
     "output_type": "stream",
     "text": [
      "         Date Startup Name              Industry               Sub-vertical  \\\n",
      "0  2021-04-14       Swiggy  Online Food Delivery       Online Food Delivery   \n",
      "1  2021-04-14      Beldara            E-commerce     Global B2B marketplace   \n",
      "2  2021-04-07        Groww               FinTech        Investment platform   \n",
      "3  2021-04-05       Meesho            E-commerce  Online reselling platform   \n",
      "4  2021-04-01       BYJU’S              Edu-tech            Online tutoring   \n",
      "\n",
      "    Location                                          Investors  \\\n",
      "0  Bengaluru  Amansa Holdings, Carmignac, Falcon Edge Capita...   \n",
      "1     Mumbai                           Hindustan Media Ventures   \n",
      "2  Bengaluru         MC Global Edtech, B Capital, Baron, others   \n",
      "3  Bengaluru                             SoftBank Vision Fund 2   \n",
      "4  Bengaluru                                    Innoven Capital   \n",
      "\n",
      "  Investment Type  Amount in USD              Website URL  \n",
      "0        Series J    343000000.0  https://www.swiggy.com/  \n",
      "1         Venture      7400000.0     https://beldara.com/  \n",
      "2        Series D     83000000.0        https://groww.in/  \n",
      "3        Series E    300000000.0   http://www.meesho.com/  \n",
      "4        Series F    460000000.0    http://www.byjus.com/  \n"
     ]
    }
   ],
   "source": [
    "import pandas as pd\n",
    "\n",
    "# Load dataset\n",
    "df = pd.read_csv(\"indian_startup_funding.csv\")\n",
    "print(df.head())"
   ]
  },
  {
   "cell_type": "code",
   "execution_count": 2,
   "id": "9a70619c-909e-4748-9114-abc275156cbf",
   "metadata": {},
   "outputs": [
    {
     "name": "stdout",
     "output_type": "stream",
     "text": [
      "<class 'pandas.core.frame.DataFrame'>\n",
      "RangeIndex: 3212 entries, 0 to 3211\n",
      "Data columns (total 9 columns):\n",
      " #   Column           Non-Null Count  Dtype  \n",
      "---  ------           --------------  -----  \n",
      " 0   Date             3210 non-null   object \n",
      " 1   Startup Name     3212 non-null   object \n",
      " 2   Industry         2276 non-null   object \n",
      " 3   Sub-vertical     3041 non-null   object \n",
      " 4   Location         3032 non-null   object \n",
      " 5   Investors        3177 non-null   object \n",
      " 6   Investment Type  3205 non-null   object \n",
      " 7   Amount in USD    2222 non-null   float64\n",
      " 8   Website URL      2670 non-null   object \n",
      "dtypes: float64(1), object(8)\n",
      "memory usage: 226.0+ KB\n"
     ]
    }
   ],
   "source": [
    "df.info()"
   ]
  },
  {
   "cell_type": "markdown",
   "id": "9c85c051-0cb7-43f9-8a93-2590b77746be",
   "metadata": {},
   "source": [
    "## Cleaning the data"
   ]
  },
  {
   "cell_type": "code",
   "execution_count": 3,
   "id": "92908f62-4e34-4471-991e-0852354dd3d2",
   "metadata": {},
   "outputs": [],
   "source": [
    "# Select relevant columns & rename for clarity\n",
    "df = df[['Date', 'Startup Name', 'Industry', 'Location', 'Investment Type', 'Amount in USD']]\n",
    "df=df.rename(columns={'Date':'date','Startup Name': 'startup_name', 'Industry':'industry','Location': 'location','Investment Type': 'investment_type', 'Amount in USD':'funding_amount'})"
   ]
  },
  {
   "cell_type": "code",
   "execution_count": 4,
   "id": "140c85bd-0910-4618-8ffe-b0d42698c6ef",
   "metadata": {},
   "outputs": [
    {
     "name": "stdout",
     "output_type": "stream",
     "text": [
      "<class 'pandas.core.frame.DataFrame'>\n",
      "RangeIndex: 3212 entries, 0 to 3211\n",
      "Data columns (total 6 columns):\n",
      " #   Column           Non-Null Count  Dtype  \n",
      "---  ------           --------------  -----  \n",
      " 0   date             3210 non-null   object \n",
      " 1   startup_name     3212 non-null   object \n",
      " 2   industry         2276 non-null   object \n",
      " 3   location         3032 non-null   object \n",
      " 4   investment_type  3205 non-null   object \n",
      " 5   funding_amount   2222 non-null   float64\n",
      "dtypes: float64(1), object(5)\n",
      "memory usage: 150.7+ KB\n"
     ]
    }
   ],
   "source": [
    "df.info()"
   ]
  },
  {
   "cell_type": "code",
   "execution_count": 5,
   "id": "0cc407e8-deb8-4449-a8fc-47b5e5090e31",
   "metadata": {},
   "outputs": [],
   "source": [
    "# Clean funding_amount, convert to numeric (remove commas and missing data)\n",
    "df['funding_amount'] = df['funding_amount'].astype(str).str.replace(',', '').str.strip()\n",
    "df['funding_amount'] = pd.to_numeric(df['funding_amount'], errors='coerce')"
   ]
  },
  {
   "cell_type": "code",
   "execution_count": 6,
   "id": "162e79c4-18f4-4c2c-9f18-82628f449fe9",
   "metadata": {},
   "outputs": [
    {
     "data": {
      "text/plain": [
       "np.int64(990)"
      ]
     },
     "execution_count": 6,
     "metadata": {},
     "output_type": "execute_result"
    }
   ],
   "source": [
    "df['funding_amount'].isnull().sum()"
   ]
  },
  {
   "cell_type": "code",
   "execution_count": 70,
   "id": "3b4a2e9d-0290-4b71-8a07-50eff47135e6",
   "metadata": {},
   "outputs": [],
   "source": [
    "# Parse date column\n",
    "df['date'] = pd.to_datetime(df['date'], errors='coerce')\n",
    "\n",
    "# median\n",
    "median=df['funding_amount'].median()\n",
    "df['funding_amount'].fillna(median,inplace=True)"
   ]
  },
  {
   "cell_type": "code",
   "execution_count": 9,
   "id": "3a89b9d0-fb0f-45f1-8c87-f445a8038601",
   "metadata": {},
   "outputs": [
    {
     "data": {
      "text/html": [
       "<div>\n",
       "<style scoped>\n",
       "    .dataframe tbody tr th:only-of-type {\n",
       "        vertical-align: middle;\n",
       "    }\n",
       "\n",
       "    .dataframe tbody tr th {\n",
       "        vertical-align: top;\n",
       "    }\n",
       "\n",
       "    .dataframe thead th {\n",
       "        text-align: right;\n",
       "    }\n",
       "</style>\n",
       "<table border=\"1\" class=\"dataframe\">\n",
       "  <thead>\n",
       "    <tr style=\"text-align: right;\">\n",
       "      <th></th>\n",
       "      <th>date</th>\n",
       "      <th>startup_name</th>\n",
       "      <th>industry</th>\n",
       "      <th>location</th>\n",
       "      <th>investment_type</th>\n",
       "      <th>funding_amount</th>\n",
       "      <th>year</th>\n",
       "    </tr>\n",
       "  </thead>\n",
       "  <tbody>\n",
       "    <tr>\n",
       "      <th>0</th>\n",
       "      <td>2021-04-14</td>\n",
       "      <td>Swiggy</td>\n",
       "      <td>Online Food Delivery</td>\n",
       "      <td>Bengaluru</td>\n",
       "      <td>Series J</td>\n",
       "      <td>343000000.0</td>\n",
       "      <td>2021</td>\n",
       "    </tr>\n",
       "    <tr>\n",
       "      <th>1</th>\n",
       "      <td>2021-04-14</td>\n",
       "      <td>Beldara</td>\n",
       "      <td>E-commerce</td>\n",
       "      <td>Mumbai</td>\n",
       "      <td>Venture</td>\n",
       "      <td>7400000.0</td>\n",
       "      <td>2021</td>\n",
       "    </tr>\n",
       "    <tr>\n",
       "      <th>2</th>\n",
       "      <td>2021-04-07</td>\n",
       "      <td>Groww</td>\n",
       "      <td>FinTech</td>\n",
       "      <td>Bengaluru</td>\n",
       "      <td>Series D</td>\n",
       "      <td>83000000.0</td>\n",
       "      <td>2021</td>\n",
       "    </tr>\n",
       "    <tr>\n",
       "      <th>3</th>\n",
       "      <td>2021-04-05</td>\n",
       "      <td>Meesho</td>\n",
       "      <td>E-commerce</td>\n",
       "      <td>Bengaluru</td>\n",
       "      <td>Series E</td>\n",
       "      <td>300000000.0</td>\n",
       "      <td>2021</td>\n",
       "    </tr>\n",
       "    <tr>\n",
       "      <th>4</th>\n",
       "      <td>2021-04-01</td>\n",
       "      <td>BYJU’S</td>\n",
       "      <td>Edu-tech</td>\n",
       "      <td>Bengaluru</td>\n",
       "      <td>Series F</td>\n",
       "      <td>460000000.0</td>\n",
       "      <td>2021</td>\n",
       "    </tr>\n",
       "  </tbody>\n",
       "</table>\n",
       "</div>"
      ],
      "text/plain": [
       "        date startup_name              industry   location investment_type  \\\n",
       "0 2021-04-14       Swiggy  Online Food Delivery  Bengaluru        Series J   \n",
       "1 2021-04-14      Beldara            E-commerce     Mumbai         Venture   \n",
       "2 2021-04-07        Groww               FinTech  Bengaluru        Series D   \n",
       "3 2021-04-05       Meesho            E-commerce  Bengaluru        Series E   \n",
       "4 2021-04-01       BYJU’S              Edu-tech  Bengaluru        Series F   \n",
       "\n",
       "   funding_amount  year  \n",
       "0     343000000.0  2021  \n",
       "1       7400000.0  2021  \n",
       "2      83000000.0  2021  \n",
       "3     300000000.0  2021  \n",
       "4     460000000.0  2021  "
      ]
     },
     "execution_count": 9,
     "metadata": {},
     "output_type": "execute_result"
    }
   ],
   "source": [
    "# Drop rows with missing key info\n",
    "df.dropna(subset=['date', 'funding_amount', 'industry', 'location','investment_type'], inplace=True)\n",
    "\n",
    "# Create year column\n",
    "df['year'] = df['date'].dt.year\n",
    "df.head()"
   ]
  },
  {
   "cell_type": "code",
   "execution_count": 10,
   "id": "1178a2fc-2af5-4485-bb9f-9fb4a819cc0b",
   "metadata": {},
   "outputs": [
    {
     "name": "stdout",
     "output_type": "stream",
     "text": [
      "<class 'pandas.core.frame.DataFrame'>\n",
      "Index: 2263 entries, 0 to 2275\n",
      "Data columns (total 7 columns):\n",
      " #   Column           Non-Null Count  Dtype         \n",
      "---  ------           --------------  -----         \n",
      " 0   date             2263 non-null   datetime64[ns]\n",
      " 1   startup_name     2263 non-null   object        \n",
      " 2   industry         2263 non-null   object        \n",
      " 3   location         2263 non-null   object        \n",
      " 4   investment_type  2263 non-null   object        \n",
      " 5   funding_amount   2263 non-null   float64       \n",
      " 6   year             2263 non-null   int32         \n",
      "dtypes: datetime64[ns](1), float64(1), int32(1), object(4)\n",
      "memory usage: 132.6+ KB\n"
     ]
    }
   ],
   "source": [
    "df.info()"
   ]
  },
  {
   "cell_type": "markdown",
   "id": "b8d033a3-ab3d-4151-aed1-2729d97fc757",
   "metadata": {},
   "source": [
    "## Store Raw Data in MongoDB"
   ]
  },
  {
   "cell_type": "code",
   "execution_count": 11,
   "id": "751de727-8ece-4810-935f-d2b53c43a407",
   "metadata": {},
   "outputs": [
    {
     "name": "stdout",
     "output_type": "stream",
     "text": [
      "Inserted data into MongoDB\n"
     ]
    }
   ],
   "source": [
    "import pymongo\n",
    "\n",
    "client = pymongo.MongoClient(\"mongodb://localhost:27017/\")\n",
    "db = client['startup_analysis']\n",
    "collection = db['funding_data']\n",
    "\n",
    "collection.delete_many({})\n",
    "collection.insert_many(df.to_dict('records'))\n",
    "print(\"Inserted data into MongoDB\")"
   ]
  },
  {
   "cell_type": "markdown",
   "id": "c316205b-78b9-4fd1-b2ba-6795aabd06ac",
   "metadata": {},
   "source": [
    "## Query MongoDB for Funding Trends"
   ]
  },
  {
   "cell_type": "code",
   "execution_count": 12,
   "id": "f3a52834-02e8-4c97-b5ed-3d352dd9e65e",
   "metadata": {},
   "outputs": [
    {
     "data": {
      "image/png": "[encoded data removed]",
      "text/plain": [
       "<Figure size 1000x500 with 1 Axes>"
      ]
     },
     "metadata": {},
     "output_type": "display_data"
    }
   ],
   "source": [
    "pipeline = [\n",
    "    {\n",
    "        \"$group\": {\n",
    "            \"_id\": \"$year\",\n",
    "            \"total_funding\": {\"$sum\": \"$funding_amount\"}\n",
    "        }\n",
    "    },\n",
    "    {\"$sort\": {\"_id\": 1}}\n",
    "]\n",
    "results = list(collection.aggregate(pipeline))\n",
    "years = [res['_id'] for res in results]\n",
    "totals = [res['total_funding'] for res in results]\n",
    "\n",
    "import matplotlib.pyplot as plt\n",
    "plt.figure(figsize=(10,5))\n",
    "plt.bar(years, totals)\n",
    "plt.title(\"Total Funding Amount by Year\")\n",
    "plt.xlabel(\"Year\")\n",
    "plt.ylabel(\"Funding Amount (USD)\")\n",
    "plt.show()"
   ]
  },
  {
   "cell_type": "markdown",
   "id": "ea447a78-70ef-47d2-95ee-888492db762d",
   "metadata": {},
   "source": [
    "## EDA - Top Funded Industries & Locations"
   ]
  },
  {
   "cell_type": "code",
   "execution_count": 13,
   "id": "253f2149-2dfa-4b12-959a-d3c991ac9058",
   "metadata": {},
   "outputs": [
    {
     "data": {
      "image/png": "[encoded data removed]",
      "text/plain": [
       "<Figure size 1200x500 with 1 Axes>"
      ]
     },
     "metadata": {},
     "output_type": "display_data"
    },
    {
     "data": {
      "image/png": "[encoded data removed]",
      "text/plain": [
       "<Figure size 1200x500 with 1 Axes>"
      ]
     },
     "metadata": {},
     "output_type": "display_data"
    }
   ],
   "source": [
    "# EDA (Exploratory Data Analysis)\n",
    "\n",
    "top_industries = df.groupby('industry')['funding_amount'].sum().sort_values(ascending=False).head(10)\n",
    "top_locations = df.groupby('location')['funding_amount'].sum().sort_values(ascending=False).head(10)\n",
    "\n",
    "plt.figure(figsize=(12,5))\n",
    "top_industries.plot(kind='bar')\n",
    "plt.title('Top 10 Industries by Funding Amount')\n",
    "plt.ylabel('Total Funding Amount (USD)')\n",
    "plt.show()\n",
    "\n",
    "plt.figure(figsize=(12,5))\n",
    "top_locations.plot(kind='bar', color='green')\n",
    "plt.title('Top 10 Locations by Funding Amount')\n",
    "plt.ylabel('Total Funding Amount (USD)')\n",
    "plt.show()"
   ]
  },
  {
   "cell_type": "code",
   "execution_count": 15,
   "id": "8ebaa13b-54f9-411b-bdf6-7266a3bc9db6",
   "metadata": {},
   "outputs": [
    {
     "data": {
      "text/html": [
       "<div>\n",
       "<style scoped>\n",
       "    .dataframe tbody tr th:only-of-type {\n",
       "        vertical-align: middle;\n",
       "    }\n",
       "\n",
       "    .dataframe tbody tr th {\n",
       "        vertical-align: top;\n",
       "    }\n",
       "\n",
       "    .dataframe thead th {\n",
       "        text-align: right;\n",
       "    }\n",
       "</style>\n",
       "<table border=\"1\" class=\"dataframe\">\n",
       "  <thead>\n",
       "    <tr style=\"text-align: right;\">\n",
       "      <th></th>\n",
       "      <th>date</th>\n",
       "      <th>funding_amount</th>\n",
       "      <th>year</th>\n",
       "    </tr>\n",
       "  </thead>\n",
       "  <tbody>\n",
       "    <tr>\n",
       "      <th>count</th>\n",
       "      <td>2263</td>\n",
       "      <td>2.263000e+03</td>\n",
       "      <td>2263.000000</td>\n",
       "    </tr>\n",
       "    <tr>\n",
       "      <th>mean</th>\n",
       "      <td>2017-06-12 19:10:28.369421312</td>\n",
       "      <td>1.651503e+07</td>\n",
       "      <td>2016.990720</td>\n",
       "    </tr>\n",
       "    <tr>\n",
       "      <th>min</th>\n",
       "      <td>2016-01-01 00:00:00</td>\n",
       "      <td>1.800000e+04</td>\n",
       "      <td>2016.000000</td>\n",
       "    </tr>\n",
       "    <tr>\n",
       "      <th>25%</th>\n",
       "      <td>2016-07-11 12:00:00</td>\n",
       "      <td>1.000000e+06</td>\n",
       "      <td>2016.000000</td>\n",
       "    </tr>\n",
       "    <tr>\n",
       "      <th>50%</th>\n",
       "      <td>2017-02-28 00:00:00</td>\n",
       "      <td>2.000000e+06</td>\n",
       "      <td>2017.000000</td>\n",
       "    </tr>\n",
       "    <tr>\n",
       "      <th>75%</th>\n",
       "      <td>2017-12-23 12:00:00</td>\n",
       "      <td>5.000000e+06</td>\n",
       "      <td>2017.000000</td>\n",
       "    </tr>\n",
       "    <tr>\n",
       "      <th>max</th>\n",
       "      <td>2021-04-14 00:00:00</td>\n",
       "      <td>3.900000e+09</td>\n",
       "      <td>2021.000000</td>\n",
       "    </tr>\n",
       "    <tr>\n",
       "      <th>std</th>\n",
       "      <td>NaN</td>\n",
       "      <td>1.176134e+08</td>\n",
       "      <td>1.202489</td>\n",
       "    </tr>\n",
       "  </tbody>\n",
       "</table>\n",
       "</div>"
      ],
      "text/plain": [
       "                                date  funding_amount         year\n",
       "count                           2263    2.263000e+03  2263.000000\n",
       "mean   2017-06-12 19:10:28.369421312    1.651503e+07  2016.990720\n",
       "min              2016-01-01 00:00:00    1.800000e+04  2016.000000\n",
       "25%              2016-07-11 12:00:00    1.000000e+06  2016.000000\n",
       "50%              2017-02-28 00:00:00    2.000000e+06  2017.000000\n",
       "75%              2017-12-23 12:00:00    5.000000e+06  2017.000000\n",
       "max              2021-04-14 00:00:00    3.900000e+09  2021.000000\n",
       "std                              NaN    1.176134e+08     1.202489"
      ]
     },
     "execution_count": 15,
     "metadata": {},
     "output_type": "execute_result"
    }
   ],
   "source": [
    "df.describe()"
   ]
  },
  {
   "cell_type": "markdown",
   "id": "c533b109-69ca-42ae-bf41-458e7d4ce62c",
   "metadata": {},
   "source": [
    "## Selecting Features and training the model"
   ]
  },
  {
   "cell_type": "code",
   "execution_count": 16,
   "id": "85da0606-b60c-4fb0-b5dc-54d084fd6f72",
   "metadata": {},
   "outputs": [],
   "source": [
    "from sklearn.model_selection import train_test_split, GridSearchCV\n",
    "from sklearn.preprocessing import OneHotEncoder\n",
    "from sklearn.compose import ColumnTransformer\n",
    "from sklearn.pipeline import Pipeline\n",
    "from sklearn.ensemble import RandomForestRegressor\n",
    "from sklearn.metrics import mean_absolute_error\n",
    "from sklearn.preprocessing import StandardScaler"
   ]
  },
  {
   "cell_type": "code",
   "execution_count": 17,
   "id": "d5bcd3a8-d68a-4756-aa1a-5dc60c5d7cff",
   "metadata": {},
   "outputs": [],
   "source": [
    "# selecting feature and target\n",
    "features = df[['industry', 'location', 'investment_type']].copy()\n",
    "target = df['funding_amount']"
   ]
  },
  {
   "cell_type": "code",
   "execution_count": 19,
   "id": "2aa23ec1-415a-45d4-a2f1-b5c3540bacaa",
   "metadata": {},
   "outputs": [],
   "source": [
    "X_train, X_test, y_train, y_test = train_test_split(features, target, test_size=0.2, random_state=42)"
   ]
  },
  {
   "cell_type": "code",
   "execution_count": 20,
   "id": "aa85de4f-e4d0-4907-bca9-07fd2ba12fd9",
   "metadata": {},
   "outputs": [],
   "source": [
    "categorical_features = ['industry', 'location', 'investment_type']\n",
    "preprocessor = ColumnTransformer( transformers=[('cat', OneHotEncoder(handle_unknown='ignore'), categorical_features)])"
   ]
  },
  {
   "cell_type": "code",
   "execution_count": 21,
   "id": "04464ea4-6b48-48b4-ae46-118ff57b841e",
   "metadata": {},
   "outputs": [],
   "source": [
    "model = Pipeline(steps=[\n",
    "    ('preprocessor', preprocessor),\n",
    "    ('regressor', RandomForestRegressor(n_estimators=100, random_state=42))\n",
    "])"
   ]
  },
  {
   "cell_type": "code",
   "execution_count": 71,
   "id": "df9eadf2-4413-406c-8537-1556d2166801",
   "metadata": {},
   "outputs": [],
   "source": [
    "model.fit(X_train, y_train)\n",
    "y_pred = model.predict(X_test)"
   ]
  },
  {
   "cell_type": "markdown",
   "id": "cf08b884-e6b1-43a4-872f-ccf511a4d82a",
   "metadata": {},
   "source": [
    "## saving the model"
   ]
  },
  {
   "cell_type": "code",
   "execution_count": 72,
   "id": "6fdde90b-0067-4378-abc9-f231c6c91442",
   "metadata": {},
   "outputs": [],
   "source": [
    "import numpy as np\n",
    "from joblib import dump, load"
   ]
  },
  {
   "cell_type": "code",
   "execution_count": 73,
   "id": "e2efb244-9e6a-4e77-9242-4472cb472c13",
   "metadata": {},
   "outputs": [
    {
     "name": "stdout",
     "output_type": "stream",
     "text": [
      "Model saved to 'startup_pred.joblib'\n"
     ]
    }
   ],
   "source": [
    "dump(best_model, 'startup_pred.joblib')\n",
    "print(\"Model saved to 'startup_pred.joblib'\")"
   ]
  },
  {
   "cell_type": "markdown",
   "id": "ba9018f2-319b-4fae-b5f1-e699605eb0f9",
   "metadata": {},
   "source": [
    "## Testing the model on test data"
   ]
  },
  {
   "cell_type": "code",
   "execution_count": 74,
   "id": "31b289ed-2105-4f7c-a02f-5648c90abfb1",
   "metadata": {},
   "outputs": [],
   "source": [
    "from joblib import dump,load\n",
    "model=load('startup_pred.joblib')"
   ]
  },
  {
   "cell_type": "code",
   "execution_count": 75,
   "id": "3eef10be-f265-4841-b60e-dd321f9122a1",
   "metadata": {},
   "outputs": [
    {
     "data": {
      "text/plain": [
       "np.float64(1223245.9742037796)"
      ]
     },
     "execution_count": 75,
     "metadata": {},
     "output_type": "execute_result"
    }
   ],
   "source": [
    "import pandas as pd\n",
    "\n",
    "# Example input to predict\n",
    "input = pd.DataFrame({\n",
    "    'industry': ['Technology'],\n",
    "    'location': ['New Delhi'],\n",
    "    'investment_type': ['Seed Funding']\n",
    "    # 'funding_round': ['Seed'],\n",
    "    # 'startup_age': [7]\n",
    "})\n",
    "model.predict(input)[0]"
   ]
  },
  {
   "cell_type": "code",
   "execution_count": null,
   "id": "9a8c5140-94ce-464b-a268-4c3bbd4084c8",
   "metadata": {},
   "outputs": [],
   "source": []
  }
 ],
 "metadata": {
  "kernelspec": {
   "display_name": "Python 3 (ipykernel)",
   "language": "python",
   "name": "python3"
  },
  "language_info": {
   "codemirror_mode": {
    "name": "ipython",
    "version": 3
   },
   "file_extension": ".py",
   "mimetype": "text/x-python",
   "name": "python",
   "nbconvert_exporter": "python",
   "pygments_lexer": "ipython3",
   "version": "3.12.2"
  }
 },
 "nbformat": 4,
 "nbformat_minor": 5
}
